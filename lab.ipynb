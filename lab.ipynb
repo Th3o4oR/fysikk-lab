{
 "cells": [
  {
   "cell_type": "code",
   "execution_count": 1,
   "metadata": {},
   "outputs": [],
   "source": [
    "# Biblioteker\n",
    "import numpy as np\n",
    "import matplotlib.pyplot as plt\n",
    "from scipy.interpolate import CubicSpline"
   ]
  },
  {
   "cell_type": "code",
   "execution_count": 41,
   "metadata": {},
   "outputs": [],
   "source": [
    "# Konstanter\n",
    "g = 9.81\n",
    "m = 0.0301\n",
    "c = 2/5"
   ]
  },
  {
   "cell_type": "code",
   "execution_count": 42,
   "metadata": {},
   "outputs": [],
   "source": [
    "# Utregning av bane\n",
    "festepunkter_x = np.arange(0, 1400+200, 200)\n",
    "festepunkter_y = np.array([300, 247, 159, 159, 195, 190, 131, 152,])\n",
    "\n",
    "x = np.arange(0, 1400+1, 1)\n",
    "\n",
    "cs = CubicSpline(festepunkter_x,festepunkter_y,bc_type='natural')\n",
    "y = cs(x)\n",
    "dy = cs(x,1)\n",
    "ddy = cs(x,2)"
   ]
  },
  {
   "cell_type": "code",
   "execution_count": 43,
   "metadata": {},
   "outputs": [],
   "source": [
    "# Plot av banen y(x)\n",
    "baneform = plt.figure('y(x)',figsize=(12,6))\n",
    "plt.title('Banens form', fontsize=20)\n",
    "plt.plot(x,y,festepunkter_x,festepunkter_y,'o')\n",
    "plt.ylim(0,300)\n",
    "plt.xlim(-50,1450)\n",
    "plt.grid()\n",
    "\n",
    "for i, j in zip(festepunkter_x, festepunkter_y):\n",
    "   strlen = len(f\"({str(i)}, {str(j)})\")\n",
    "   plt.text(i-strlen*6, j+10, '({}, {})'.format(i, j))\n",
    "\n",
    "plt.show()"
   ]
  },
  {
   "cell_type": "code",
   "execution_count": 44,
   "metadata": {},
   "outputs": [],
   "source": [
    "# Plot av derivert av bane\n",
    "baneform = plt.figure('y(x)',figsize=(12,6))\n",
    "plt.title('Banens derivert', fontsize=20)\n",
    "plt.plot(x,dy)\n",
    "plt.grid()\n",
    "plt.show()"
   ]
  },
  {
   "cell_type": "code",
   "execution_count": 45,
   "metadata": {},
   "outputs": [],
   "source": [
    "# Plot av kulas fart\n",
    "def kfart(banehøyde):\n",
    "    y0 = y[0] / 1000 # m\n",
    "    return np.sqrt(2*g*(y0-(banehøyde/1000))/(1+c))\n",
    "\n",
    "baneform = plt.figure('y(x)',figsize=(12,6))\n",
    "plt.title('Kulens fart', fontsize=20)\n",
    "plt.plot(x, kfart(y))\n",
    "\n",
    "plt.grid()\n",
    "plt.show()"
   ]
  },
  {
   "cell_type": "code",
   "execution_count": 46,
   "metadata": {},
   "outputs": [],
   "source": [
    "# Plot av helningsvinkel\n",
    "def helning(dy):\n",
    "    return np.arctan(dy)\n",
    "\n",
    "baneform = plt.figure('y(x)',figsize=(12,6))\n",
    "plt.title('Helningsvinkel', fontsize=20)\n",
    "plt.plot(x, helning(dy))\n",
    "\n",
    "plt.grid()\n",
    "plt.show()"
   ]
  },
  {
   "cell_type": "code",
   "execution_count": 47,
   "metadata": {},
   "outputs": [],
   "source": [
    "# Tidsutvikling\n",
    "def dt(n):\n",
    "    dx = 0.001 # m\n",
    "    fart = kfart(y[n])\n",
    "    fart_next = kfart(y[n+1])\n",
    "    return (2 * dx) / ((fart + fart_next) * abs(np.cos(helning(dy[n]))))\n",
    "dt_arr = [dt(i) for i in range(0, len(x)-1)]"
   ]
  },
  {
   "cell_type": "code",
   "execution_count": 48,
   "metadata": {},
   "outputs": [],
   "source": [
    "# Total tid\n",
    "tid = sum(dt_arr)"
   ]
  },
  {
   "cell_type": "code",
   "execution_count": 49,
   "metadata": {},
   "outputs": [],
   "source": [
    "# Plot av tidsutvikling\n",
    "baneform = plt.figure('y(x)',figsize=(12,6))\n",
    "plt.title('Tidsutvikling', fontsize=20)\n",
    "plt.plot(x[:-1], dt_arr)\n",
    "plt.grid()\n",
    "\n",
    "plt.show()"
   ]
  },
  {
   "cell_type": "code",
   "execution_count": 50,
   "metadata": {},
   "outputs": [],
   "source": [
    "# Utregning av kinetisk energi i sluttpunktet\n",
    "E = (1+c)*m*kfart(y[-1]/1000)**2/2\n",
    "print(E)"
   ]
  },
  {
   "cell_type": "code",
   "execution_count": 11,
   "metadata": {},
   "outputs": [],
   "source": [
    "def Normalkraft(n):\n",
    "    m = 0.031\n",
    "    c = 2/5\n",
    "    g = 9.81\n",
    "    y_0 = y[0]\n",
    "    sentrip = (2*g(y_0 - y[n])/(1+c)) * ddy[n]/(1+(dy[n]**2))**(3/2)\n",
    "    return m(g*np.cos(helning[n])+sentrip)"
   ]
  },
  {
   "cell_type": "code",
   "execution_count": 12,
   "metadata": {},
   "outputs": [],
   "source": [
    "#Friksjonskraft\n",
    "def F(n): \n",
    "    m = 0.031\n",
    "    g = 9.81\n",
    "    f = 2*m*g*np.sin(helning[n])/7\n",
    "    if abs(f) > 0.4 * Normalkraft(n):\n",
    "        return 0.4 * Normalkraft(n)\n",
    "    else:\n",
    "        return f"
   ]
  },
  {
   "cell_type": "code",
   "execution_count": 13,
   "metadata": {},
   "outputs": [],
   "source": [
    "#Forholdet mellom friksjonskraften og normalkraften\n",
    "def aFrictionousRelationship(n):\n",
    "    return F(n)/Normalkraft(n)\n"
   ]
  }
 ],
 "metadata": {
  "kernelspec": {
   "display_name": "Python 3",
   "language": "python",
   "name": "python3"
  },
  "language_info": {
   "codemirror_mode": {
    "name": "ipython",
    "version": 3
   },
   "file_extension": ".py",
   "mimetype": "text/x-python",
   "name": "python",
   "nbconvert_exporter": "python",
   "pygments_lexer": "ipython3",
   "version": "3.7.4"
  },
  "orig_nbformat": 4
 },
 "nbformat": 4,
 "nbformat_minor": 2
}
